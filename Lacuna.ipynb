{
  "cells": [
    {
      "cell_type": "markdown",
      "metadata": {
        "id": "-dOaYbAh8flk"
      },
      "source": [
        "# Setup"
      ]
    },
    {
      "cell_type": "code",
      "execution_count": 1,
      "metadata": {
        "colab": {
          "base_uri": "https://localhost:8080/"
        },
        "id": "anJiNQwP6jq5",
        "outputId": "7eed6c1a-fb25-47f9-afd6-f70a886dc94b"
      },
      "outputs": [
        {
          "name": "stderr",
          "output_type": "stream",
          "text": [
            "'nvidia-smi' is not recognized as an internal or external command,\n",
            "operable program or batch file.\n"
          ]
        }
      ],
      "source": [
        "!nvidia-smi"
      ]
    },
    {
      "cell_type": "code",
      "execution_count": 2,
      "metadata": {
        "id": "aNX0tdydsdrk"
      },
      "outputs": [
        {
          "name": "stderr",
          "output_type": "stream",
          "text": [
            "'unzip' is not recognized as an internal or external command,\n",
            "operable program or batch file.\n"
          ]
        }
      ],
      "source": [
        "# unzip data\n",
        "!unzip -q \"/images.zip\" -d images"
      ]
    },
    {
      "cell_type": "code",
      "execution_count": 3,
      "metadata": {
        "colab": {
          "base_uri": "https://localhost:8080/"
        },
        "id": "Y5T_1zXS9HRb",
        "outputId": "a8747c79-80d9-4263-fcd2-a410ab24388e"
      },
      "outputs": [
        {
          "name": "stderr",
          "output_type": "stream",
          "text": [
            "c:\\Users\\Burhani\\Documents\\Lacuna Solar Survey Challenge--Zindi\\myenv\\lib\\site-packages\\tqdm\\auto.py:21: TqdmWarning: IProgress not found. Please update jupyter and ipywidgets. See https://ipywidgets.readthedocs.io/en/stable/user_install.html\n",
            "  from .autonotebook import tqdm as notebook_tqdm\n"
          ]
        }
      ],
      "source": [
        "import os\n",
        "import timm\n",
        "import torch\n",
        "import torch.nn as nn\n",
        "import torch.optim as optim\n",
        "import albumentations as A\n",
        "from albumentations.pytorch import ToTensorV2\n",
        "from torch.utils.data import Dataset, DataLoader\n",
        "import pandas as pd\n",
        "import cv2\n",
        "from sklearn.model_selection import StratifiedKFold\n",
        "import numpy as np\n",
        "from tqdm import tqdm"
      ]
    },
    {
      "cell_type": "markdown",
      "metadata": {
        "id": "Bi_jqci98hjS"
      },
      "source": [
        "# Imports"
      ]
    },
    {
      "cell_type": "code",
      "execution_count": 4,
      "metadata": {
        "id": "8eaj51iFv95-"
      },
      "outputs": [],
      "source": [
        "# Read in the training dataset\n",
        "train = pd.read_csv(f\"Train.csv\")"
      ]
    },
    {
      "cell_type": "code",
      "execution_count": 5,
      "metadata": {
        "colab": {
          "base_uri": "https://localhost:8080/",
          "height": 112
        },
        "id": "saWCS23p2EEK",
        "outputId": "c160cee4-db1c-4950-c8ce-4b1a3fcaaf27"
      },
      "outputs": [
        {
          "data": {
            "text/html": [
              "<div>\n",
              "<style scoped>\n",
              "    .dataframe tbody tr th:only-of-type {\n",
              "        vertical-align: middle;\n",
              "    }\n",
              "\n",
              "    .dataframe tbody tr th {\n",
              "        vertical-align: top;\n",
              "    }\n",
              "\n",
              "    .dataframe thead th {\n",
              "        text-align: right;\n",
              "    }\n",
              "</style>\n",
              "<table border=\"1\" class=\"dataframe\">\n",
              "  <thead>\n",
              "    <tr style=\"text-align: right;\">\n",
              "      <th></th>\n",
              "      <th>ID</th>\n",
              "      <th>img_origin</th>\n",
              "      <th>placement</th>\n",
              "      <th>boil_nbr</th>\n",
              "      <th>pan_nbr</th>\n",
              "      <th>polygon</th>\n",
              "    </tr>\n",
              "  </thead>\n",
              "  <tbody>\n",
              "    <tr>\n",
              "      <th>0</th>\n",
              "      <td>ID00rw8</td>\n",
              "      <td>D</td>\n",
              "      <td>roof</td>\n",
              "      <td>0</td>\n",
              "      <td>2</td>\n",
              "      <td>[(2087, 2179.0), (2181, 2191.0), (2171, 2223.0...</td>\n",
              "    </tr>\n",
              "    <tr>\n",
              "      <th>1</th>\n",
              "      <td>ID014O6EC7</td>\n",
              "      <td>D</td>\n",
              "      <td>roof</td>\n",
              "      <td>0</td>\n",
              "      <td>1</td>\n",
              "      <td>[(1327, 1574.0), (1595, 1308.0), (2169, 1744.0...</td>\n",
              "    </tr>\n",
              "    <tr>\n",
              "      <th>2</th>\n",
              "      <td>ID020cu0z</td>\n",
              "      <td>D</td>\n",
              "      <td>openspace</td>\n",
              "      <td>0</td>\n",
              "      <td>1</td>\n",
              "      <td>[(2215, 1372.0), (2400, 1422.0), (2316, 1716.0...</td>\n",
              "    </tr>\n",
              "    <tr>\n",
              "      <th>3</th>\n",
              "      <td>ID024YTBkLvRpQahT</td>\n",
              "      <td>D</td>\n",
              "      <td>roof</td>\n",
              "      <td>0</td>\n",
              "      <td>1</td>\n",
              "      <td>[(1574, 526.0), (1698, 366.0), (1810, 422.0), ...</td>\n",
              "    </tr>\n",
              "    <tr>\n",
              "      <th>4</th>\n",
              "      <td>ID024YTBkLvRpQahT</td>\n",
              "      <td>D</td>\n",
              "      <td>roof</td>\n",
              "      <td>0</td>\n",
              "      <td>2</td>\n",
              "      <td>[(1402, 782.0), (1814, 854.0), (1726, 1074.0),...</td>\n",
              "    </tr>\n",
              "  </tbody>\n",
              "</table>\n",
              "</div>"
            ],
            "text/plain": [
              "                  ID img_origin  placement  boil_nbr  pan_nbr  \\\n",
              "0            ID00rw8          D       roof         0        2   \n",
              "1         ID014O6EC7          D       roof         0        1   \n",
              "2          ID020cu0z          D  openspace         0        1   \n",
              "3  ID024YTBkLvRpQahT          D       roof         0        1   \n",
              "4  ID024YTBkLvRpQahT          D       roof         0        2   \n",
              "\n",
              "                                             polygon  \n",
              "0  [(2087, 2179.0), (2181, 2191.0), (2171, 2223.0...  \n",
              "1  [(1327, 1574.0), (1595, 1308.0), (2169, 1744.0...  \n",
              "2  [(2215, 1372.0), (2400, 1422.0), (2316, 1716.0...  \n",
              "3  [(1574, 526.0), (1698, 366.0), (1810, 422.0), ...  \n",
              "4  [(1402, 782.0), (1814, 854.0), (1726, 1074.0),...  "
            ]
          },
          "execution_count": 5,
          "metadata": {},
          "output_type": "execute_result"
        }
      ],
      "source": [
        "train.head()"
      ]
    },
    {
      "cell_type": "code",
      "execution_count": 6,
      "metadata": {
        "id": "5DF3hPzM2wIG"
      },
      "outputs": [],
      "source": [
        "# Create a placement mapper\n",
        "placement_mapper = train[[\"ID\", \"placement\"]].drop_duplicates().set_index(\"ID\").to_dict()\n",
        "# Create a \"img_origin\" mapper\n",
        "img_origin_mapper = train[[\"ID\", \"img_origin\"]].drop_duplicates().set_index(\"ID\").to_dict()\n",
        "\n",
        "# Group by \"ID\" and sum up boil_nb, pan_nbr\n",
        "train_df = train.groupby(\"ID\").sum().reset_index()[[\"ID\", \"boil_nbr\", \"pan_nbr\"]]\n",
        "\n",
        "# Map img_origin and placement\n",
        "train_df[\"img_origin\"] = train_df[\"ID\"].map(img_origin_mapper[\"img_origin\"])\n",
        "train_df[\"placement\"] = train_df[\"ID\"].map(placement_mapper[\"placement\"])\n",
        "\n",
        "# Create path column\n",
        "train_df[\"path\"] = \"images/\" + train_df[\"ID\"] + \".jpg\""
      ]
    },
    {
      "cell_type": "code",
      "execution_count": 7,
      "metadata": {
        "colab": {
          "base_uri": "https://localhost:8080/",
          "height": 112
        },
        "id": "ULcbkzcQ-T86",
        "outputId": "59ca52bc-f36e-41ec-9590-a913ea89fd88"
      },
      "outputs": [
        {
          "data": {
            "text/html": [
              "<div>\n",
              "<style scoped>\n",
              "    .dataframe tbody tr th:only-of-type {\n",
              "        vertical-align: middle;\n",
              "    }\n",
              "\n",
              "    .dataframe tbody tr th {\n",
              "        vertical-align: top;\n",
              "    }\n",
              "\n",
              "    .dataframe thead th {\n",
              "        text-align: right;\n",
              "    }\n",
              "</style>\n",
              "<table border=\"1\" class=\"dataframe\">\n",
              "  <thead>\n",
              "    <tr style=\"text-align: right;\">\n",
              "      <th></th>\n",
              "      <th>ID</th>\n",
              "      <th>boil_nbr</th>\n",
              "      <th>pan_nbr</th>\n",
              "      <th>img_origin</th>\n",
              "      <th>placement</th>\n",
              "      <th>path</th>\n",
              "    </tr>\n",
              "  </thead>\n",
              "  <tbody>\n",
              "    <tr>\n",
              "      <th>0</th>\n",
              "      <td>ID00rw8</td>\n",
              "      <td>0</td>\n",
              "      <td>2</td>\n",
              "      <td>D</td>\n",
              "      <td>roof</td>\n",
              "      <td>images/ID00rw8.jpg</td>\n",
              "    </tr>\n",
              "    <tr>\n",
              "      <th>1</th>\n",
              "      <td>ID014O6EC7</td>\n",
              "      <td>0</td>\n",
              "      <td>1</td>\n",
              "      <td>D</td>\n",
              "      <td>roof</td>\n",
              "      <td>images/ID014O6EC7.jpg</td>\n",
              "    </tr>\n",
              "    <tr>\n",
              "      <th>2</th>\n",
              "      <td>ID020cu0z</td>\n",
              "      <td>0</td>\n",
              "      <td>1</td>\n",
              "      <td>D</td>\n",
              "      <td>openspace</td>\n",
              "      <td>images/ID020cu0z.jpg</td>\n",
              "    </tr>\n",
              "    <tr>\n",
              "      <th>3</th>\n",
              "      <td>ID024YTBkLvRpQahT</td>\n",
              "      <td>0</td>\n",
              "      <td>5</td>\n",
              "      <td>D</td>\n",
              "      <td>roof</td>\n",
              "      <td>images/ID024YTBkLvRpQahT.jpg</td>\n",
              "    </tr>\n",
              "    <tr>\n",
              "      <th>4</th>\n",
              "      <td>ID02vByTw8Htl</td>\n",
              "      <td>0</td>\n",
              "      <td>1</td>\n",
              "      <td>D</td>\n",
              "      <td>roof</td>\n",
              "      <td>images/ID02vByTw8Htl.jpg</td>\n",
              "    </tr>\n",
              "  </tbody>\n",
              "</table>\n",
              "</div>"
            ],
            "text/plain": [
              "                  ID  boil_nbr  pan_nbr img_origin  placement  \\\n",
              "0            ID00rw8         0        2          D       roof   \n",
              "1         ID014O6EC7         0        1          D       roof   \n",
              "2          ID020cu0z         0        1          D  openspace   \n",
              "3  ID024YTBkLvRpQahT         0        5          D       roof   \n",
              "4      ID02vByTw8Htl         0        1          D       roof   \n",
              "\n",
              "                           path  \n",
              "0            images/ID00rw8.jpg  \n",
              "1         images/ID014O6EC7.jpg  \n",
              "2          images/ID020cu0z.jpg  \n",
              "3  images/ID024YTBkLvRpQahT.jpg  \n",
              "4      images/ID02vByTw8Htl.jpg  "
            ]
          },
          "execution_count": 7,
          "metadata": {},
          "output_type": "execute_result"
        }
      ],
      "source": [
        "train_df.head()"
      ]
    },
    {
      "cell_type": "code",
      "execution_count": 8,
      "metadata": {
        "colab": {
          "base_uri": "https://localhost:8080/"
        },
        "id": "HKG3kLmc3U0j",
        "outputId": "dec2c167-1473-4413-c7c6-68fc5b9ef7a8"
      },
      "outputs": [
        {
          "data": {
            "text/plain": [
              "'# Stratified KFold based on multi-label targets\\ntrain_df[\"stratify_label\"] = train_df[[\"boil_nbr\", \"pan_nbr\"]].sum(axis=1)\\nskf = StratifiedKFold(n_splits=3, shuffle=True, random_state=42)\\ntrain_df[\"fold\"] = -1\\nfor fold, (_, valid_idx) in enumerate(skf.split(train_df, train_df[\"stratify_label\"])):\\n    train_df.loc[valid_idx, \"fold\"] = fold'"
            ]
          },
          "execution_count": 8,
          "metadata": {},
          "output_type": "execute_result"
        }
      ],
      "source": [
        "'''# Stratified KFold based on multi-label targets\n",
        "train_df[\"stratify_label\"] = train_df[[\"boil_nbr\", \"pan_nbr\"]].sum(axis=1)\n",
        "skf = StratifiedKFold(n_splits=3, shuffle=True, random_state=42)\n",
        "train_df[\"fold\"] = -1\n",
        "for fold, (_, valid_idx) in enumerate(skf.split(train_df, train_df[\"stratify_label\"])):\n",
        "    train_df.loc[valid_idx, \"fold\"] = fold'''"
      ]
    },
    {
      "cell_type": "code",
      "execution_count": 9,
      "metadata": {},
      "outputs": [],
      "source": [
        "from sklearn.model_selection import KFold\n",
        "\n",
        "kf = KFold(n_splits=5, shuffle=True, random_state=42)\n",
        "train_df[\"fold\"] = -1\n",
        "\n",
        "for fold, (_, valid_idx) in enumerate(kf.split(train_df)):\n",
        "    train_df.loc[valid_idx, \"fold\"] = fold"
      ]
    },
    {
      "cell_type": "code",
      "execution_count": 10,
      "metadata": {
        "id": "Wn5YdAa6DQru"
      },
      "outputs": [],
      "source": [
        "# Define Transformations\n",
        "train_transforms = A.Compose([\n",
        "    A.Resize(384, 384),\n",
        "    A.HorizontalFlip(p=0.5),\n",
        "    A.Normalize(mean=(0.485, 0.456, 0.406), std=(0.229, 0.224, 0.225)),\n",
        "    ToTensorV2()\n",
        "])\n",
        "\n",
        "test_transforms = A.Compose([\n",
        "    A.Resize(384, 384),\n",
        "    A.Normalize(mean=(0.485, 0.456, 0.406), std=(0.229, 0.224, 0.225)),\n",
        "    ToTensorV2()\n",
        "])"
      ]
    },
    {
      "cell_type": "code",
      "execution_count": 11,
      "metadata": {
        "id": "HihBcjfh9RH7"
      },
      "outputs": [],
      "source": [
        "# Custom Dataset\n",
        "class SolarPanelDataset(Dataset):\n",
        "    def __init__(self, dataframe, transform=None, to_train=True):\n",
        "        self.dataframe = dataframe\n",
        "        self.transform = transform\n",
        "        self.to_train = to_train\n",
        "\n",
        "    def __len__(self):\n",
        "        return len(self.dataframe)\n",
        "\n",
        "    def __getitem__(self, idx):\n",
        "        row = self.dataframe.iloc[idx]\n",
        "        image = cv2.imread(row[\"path\"])\n",
        "        image = cv2.cvtColor(image, cv2.COLOR_BGR2RGB)\n",
        "\n",
        "        if self.transform:\n",
        "            image = self.transform(image=image)[\"image\"]\n",
        "\n",
        "        if self.to_train:\n",
        "          target = torch.tensor([row[\"boil_nbr\"], row[\"pan_nbr\"]], dtype=torch.float32)\n",
        "          return image, target\n",
        "        else:\n",
        "          return image"
      ]
    },
    {
      "cell_type": "code",
      "execution_count": 12,
      "metadata": {
        "id": "5zg6m_dc9Va7"
      },
      "outputs": [],
      "source": [
        "# Prepare Dataloaders\n",
        "fold = 0  # Change fold index as needed\n",
        "train_data = train_df[train_df[\"fold\"] != fold].reset_index(drop=True)\n",
        "valid_data = train_df[train_df[\"fold\"] == fold].reset_index(drop=True)\n",
        "\n",
        "dataset_train = SolarPanelDataset(train_data, transform=train_transforms)\n",
        "dataset_valid = SolarPanelDataset(valid_data, transform=test_transforms)\n",
        "\n",
        "train_loader = DataLoader(dataset_train, batch_size=32, shuffle=True, num_workers=os.cpu_count())\n",
        "valid_loader = DataLoader(dataset_valid, batch_size=32, shuffle=False)"
      ]
    },
    {
      "cell_type": "code",
      "execution_count": 13,
      "metadata": {
        "id": "urT-xV7X_tKB"
      },
      "outputs": [],
      "source": [
        "# Model Definition\n",
        "class EfficientNetRegressor(nn.Module):\n",
        "    def __init__(self):\n",
        "        super(EfficientNetRegressor, self).__init__()\n",
        "        self.model = timm.create_model(\"tf_efficientnet_b1\", pretrained=True)\n",
        "        self.model.classifier = nn.Linear(self.model.classifier.in_features, 2)\n",
        "\n",
        "    def forward(self, x):\n",
        "        return self.model(x)"
      ]
    },
    {
      "cell_type": "code",
      "execution_count": 14,
      "metadata": {
        "colab": {
          "base_uri": "https://localhost:8080/",
          "height": 157,
          "referenced_widgets": [
            "654c794449bd42378ad0ff1ba20a3842",
            "77ac0e5761554e789f001c1045129ea8",
            "3db63fd099ba4a2a8d3ffcaa147b6011",
            "5a5479ef19af4814b4a227ea44ffd90a",
            "60f4949511b44ae499946129cee86819",
            "69079a20dea64e91885053bf2cc54a4c",
            "5ca7b048742c49e986dd8e30727367a7",
            "8f26197afbe3469cb2d27ea32f7257ee",
            "d026f74db1264804b09f4b93da7bf720",
            "e52204a5e84f419994c7017fc2b3bbf8",
            "0b074c585dd5460f892711429f1d78aa"
          ]
        },
        "id": "DqOjmljZ_wqQ",
        "outputId": "e79d1147-5c89-4b26-be64-c4e87272d0eb"
      },
      "outputs": [],
      "source": [
        "# Training Setup\n",
        "model = EfficientNetRegressor().to(torch.device(\"cpu\"))\n",
        "criterion = nn.L1Loss()  # MAE Loss\n",
        "optimizer = optim.Adam(model.parameters(), lr=1e-4)\n",
        "\n",
        "# Model Saving Path\n",
        "best_model_path = \"best_model.pth\""
      ]
    },
    {
      "cell_type": "code",
      "execution_count": null,
      "metadata": {
        "colab": {
          "base_uri": "https://localhost:8080/"
        },
        "id": "D5gV2mYT_zFy",
        "outputId": "0fb50c5a-93c1-46ee-b1fe-ed04556c821d"
      },
      "outputs": [
        {
          "name": "stderr",
          "output_type": "stream",
          "text": [
            "Epoch 1/3 - Training:   0%|          | 0/83 [00:00<?, ?it/s]"
          ]
        }
      ],
      "source": [
        "# Training Loop\n",
        "num_epochs = 3\n",
        "best_loss = float(\"inf\")\n",
        "for epoch in range(num_epochs):\n",
        "    model.train()\n",
        "    epoch_loss = 0.0\n",
        "    for images, targets in tqdm(train_loader, desc=f\"Epoch {epoch+1}/{num_epochs} - Training\"):\n",
        "        images, targets = images.cuda(), targets.cuda()\n",
        "        optimizer.zero_grad()\n",
        "        outputs = model(images)\n",
        "        loss = criterion(outputs, targets)\n",
        "        loss.backward()\n",
        "        optimizer.step()\n",
        "        epoch_loss += loss.item()\n",
        "\n",
        "    # Validation Loop\n",
        "    model.eval()\n",
        "    val_loss = 0.0\n",
        "    with torch.no_grad():\n",
        "        for images, targets in tqdm(valid_loader, desc=f\"Epoch {epoch+1}/{num_epochs} - Validation\"):\n",
        "            images, targets = images.cuda(), targets.cuda()\n",
        "            outputs = model(images)\n",
        "            loss = criterion(outputs, targets)\n",
        "            val_loss += loss.item()\n",
        "\n",
        "    val_loss /= len(valid_loader)\n",
        "    print(f\"Epoch {epoch+1}/{num_epochs}, Train Loss: {epoch_loss/len(train_loader):.4f}, Val Loss: {val_loss:.4f}\")\n",
        "\n",
        "    # Save Best Model\n",
        "    if val_loss < best_loss:\n",
        "        best_loss = val_loss\n",
        "        torch.save(model.state_dict(), best_model_path)"
      ]
    },
    {
      "cell_type": "code",
      "execution_count": null,
      "metadata": {
        "colab": {
          "base_uri": "https://localhost:8080/"
        },
        "id": "d-b5YbRbABqg",
        "outputId": "4594bd0b-8794-4cfe-d9ba-0232b7089e30"
      },
      "outputs": [
        {
          "name": "stderr",
          "output_type": "stream",
          "text": [
            "<ipython-input-24-ce980cad07c1>:2: FutureWarning: You are using `torch.load` with `weights_only=False` (the current default value), which uses the default pickle module implicitly. It is possible to construct malicious pickle data which will execute arbitrary code during unpickling (See https://github.com/pytorch/pytorch/blob/main/SECURITY.md#untrusted-models for more details). In a future release, the default value for `weights_only` will be flipped to `True`. This limits the functions that could be executed during unpickling. Arbitrary objects will no longer be allowed to be loaded via this mode unless they are explicitly allowlisted by the user via `torch.serialization.add_safe_globals`. We recommend you start setting `weights_only=True` for any use case where you don't have full control of the loaded file. Please open an issue on GitHub for any issues related to this experimental feature.\n",
            "  model.load_state_dict(torch.load(best_model_path))\n",
            "Predicting on Validation Set: 100%|██████████| 21/21 [01:43<00:00,  4.91s/it]\n"
          ]
        }
      ],
      "source": [
        "# Load Best Model\n",
        "model.load_state_dict(torch.load(best_model_path))\n",
        "model.eval()\n",
        "\n",
        "# Predict on Validation Set\n",
        "preds = []\n",
        "true_vals = []\n",
        "with torch.no_grad():\n",
        "    for images, targets in tqdm(valid_loader, desc=\"Predicting on Validation Set\"):\n",
        "        images = images.cuda()\n",
        "        outputs = model(images).cpu().numpy()\n",
        "        preds.append(outputs)\n",
        "        true_vals.append(targets.numpy())\n",
        "preds = np.concatenate(preds, axis=0)\n",
        "true_vals = np.concatenate(true_vals, axis=0)"
      ]
    },
    {
      "cell_type": "code",
      "execution_count": null,
      "metadata": {
        "colab": {
          "base_uri": "https://localhost:8080/"
        },
        "id": "QKQh0lfnPwqq",
        "outputId": "0e820462-63b0-406d-bf14-ca0fb8050633"
      },
      "outputs": [
        {
          "name": "stdout",
          "output_type": "stream",
          "text": [
            "Validation MAE: 2.1703\n"
          ]
        }
      ],
      "source": [
        "from sklearn.metrics import mean_absolute_error\n",
        "\n",
        "# Evaluate using MAE\n",
        "mae = mean_absolute_error(true_vals, preds)\n",
        "print(f\"Validation MAE: {mae:.4f}\")"
      ]
    },
    {
      "cell_type": "code",
      "execution_count": null,
      "metadata": {
        "colab": {
          "base_uri": "https://localhost:8080/"
        },
        "id": "ne1bkGIvKuAG",
        "outputId": "67438760-c2bd-4dfc-edb9-d0e0611ce7e3"
      },
      "outputs": [
        {
          "name": "stderr",
          "output_type": "stream",
          "text": [
            "Predicting on Test Set: 100%|██████████| 35/35 [03:06<00:00,  5.33s/it]\n"
          ]
        }
      ],
      "source": [
        "# Predict on Test Set\n",
        "test_df = pd.read_csv(f\"Test.csv\")\n",
        "\n",
        "test_df[\"path\"] = \"images/\" + test_df[\"ID\"] + \".jpg\"\n",
        "\n",
        "dataset_test = SolarPanelDataset(test_df, transform=test_transforms, to_train=False)\n",
        "test_loader = DataLoader(dataset_test, batch_size=32, shuffle=False)\n",
        "\n",
        "test_preds = []\n",
        "with torch.no_grad():\n",
        "    for images in tqdm(test_loader, desc=\"Predicting on Test Set\"):\n",
        "        images = images.cuda()\n",
        "        outputs = model(images).cpu().numpy()\n",
        "        test_preds.append(outputs)\n",
        "test_preds = np.concatenate(test_preds, axis=0)"
      ]
    },
    {
      "cell_type": "code",
      "execution_count": null,
      "metadata": {
        "colab": {
          "base_uri": "https://localhost:8080/"
        },
        "id": "cepD5bBiP2Fz",
        "outputId": "e833f539-2ec0-447f-e68d-1aea953c5e93"
      },
      "outputs": [
        {
          "name": "stdout",
          "output_type": "stream",
          "text": [
            "Sample submission saved!\n"
          ]
        }
      ],
      "source": [
        "# Create Sample Submission\n",
        "submission = pd.DataFrame()\n",
        "submission[\"ID\"] = np.repeat(test_df[\"ID\"].values, 2)\n",
        "submission[\"ID\"] = submission[\"ID\"] + np.tile([\"_boil\", \"_pan\"], len(test_df))\n",
        "submission[\"Target\"] = test_preds.flatten().clip(0,1000)\n",
        "\n",
        "# Save Submission\n",
        "submission.to_csv(\"SampleSubmission.csv\", index=False)\n",
        "print(\"Sample submission saved!\")"
      ]
    }
  ],
  "metadata": {
    "accelerator": "GPU",
    "colab": {
      "gpuType": "T4",
      "provenance": []
    },
    "kernelspec": {
      "display_name": "myenv",
      "language": "python",
      "name": "python3"
    },
    "language_info": {
      "codemirror_mode": {
        "name": "ipython",
        "version": 3
      },
      "file_extension": ".py",
      "mimetype": "text/x-python",
      "name": "python",
      "nbconvert_exporter": "python",
      "pygments_lexer": "ipython3",
      "version": "3.10.11"
    },
    "widgets": {
      "application/vnd.jupyter.widget-state+json": {
        "0b074c585dd5460f892711429f1d78aa": {
          "model_module": "@jupyter-widgets/controls",
          "model_module_version": "1.5.0",
          "model_name": "DescriptionStyleModel",
          "state": {
            "_model_module": "@jupyter-widgets/controls",
            "_model_module_version": "1.5.0",
            "_model_name": "DescriptionStyleModel",
            "_view_count": null,
            "_view_module": "@jupyter-widgets/base",
            "_view_module_version": "1.2.0",
            "_view_name": "StyleView",
            "description_width": ""
          }
        },
        "3db63fd099ba4a2a8d3ffcaa147b6011": {
          "model_module": "@jupyter-widgets/controls",
          "model_module_version": "1.5.0",
          "model_name": "FloatProgressModel",
          "state": {
            "_dom_classes": [],
            "_model_module": "@jupyter-widgets/controls",
            "_model_module_version": "1.5.0",
            "_model_name": "FloatProgressModel",
            "_view_count": null,
            "_view_module": "@jupyter-widgets/controls",
            "_view_module_version": "1.5.0",
            "_view_name": "ProgressView",
            "bar_style": "success",
            "description": "",
            "description_tooltip": null,
            "layout": "IPY_MODEL_8f26197afbe3469cb2d27ea32f7257ee",
            "max": 31471874,
            "min": 0,
            "orientation": "horizontal",
            "style": "IPY_MODEL_d026f74db1264804b09f4b93da7bf720",
            "value": 31471874
          }
        },
        "5a5479ef19af4814b4a227ea44ffd90a": {
          "model_module": "@jupyter-widgets/controls",
          "model_module_version": "1.5.0",
          "model_name": "HTMLModel",
          "state": {
            "_dom_classes": [],
            "_model_module": "@jupyter-widgets/controls",
            "_model_module_version": "1.5.0",
            "_model_name": "HTMLModel",
            "_view_count": null,
            "_view_module": "@jupyter-widgets/controls",
            "_view_module_version": "1.5.0",
            "_view_name": "HTMLView",
            "description": "",
            "description_tooltip": null,
            "layout": "IPY_MODEL_e52204a5e84f419994c7017fc2b3bbf8",
            "placeholder": "​",
            "style": "IPY_MODEL_0b074c585dd5460f892711429f1d78aa",
            "value": " 31.5M/31.5M [00:00&lt;00:00, 56.8MB/s]"
          }
        },
        "5ca7b048742c49e986dd8e30727367a7": {
          "model_module": "@jupyter-widgets/controls",
          "model_module_version": "1.5.0",
          "model_name": "DescriptionStyleModel",
          "state": {
            "_model_module": "@jupyter-widgets/controls",
            "_model_module_version": "1.5.0",
            "_model_name": "DescriptionStyleModel",
            "_view_count": null,
            "_view_module": "@jupyter-widgets/base",
            "_view_module_version": "1.2.0",
            "_view_name": "StyleView",
            "description_width": ""
          }
        },
        "60f4949511b44ae499946129cee86819": {
          "model_module": "@jupyter-widgets/base",
          "model_module_version": "1.2.0",
          "model_name": "LayoutModel",
          "state": {
            "_model_module": "@jupyter-widgets/base",
            "_model_module_version": "1.2.0",
            "_model_name": "LayoutModel",
            "_view_count": null,
            "_view_module": "@jupyter-widgets/base",
            "_view_module_version": "1.2.0",
            "_view_name": "LayoutView",
            "align_content": null,
            "align_items": null,
            "align_self": null,
            "border": null,
            "bottom": null,
            "display": null,
            "flex": null,
            "flex_flow": null,
            "grid_area": null,
            "grid_auto_columns": null,
            "grid_auto_flow": null,
            "grid_auto_rows": null,
            "grid_column": null,
            "grid_gap": null,
            "grid_row": null,
            "grid_template_areas": null,
            "grid_template_columns": null,
            "grid_template_rows": null,
            "height": null,
            "justify_content": null,
            "justify_items": null,
            "left": null,
            "margin": null,
            "max_height": null,
            "max_width": null,
            "min_height": null,
            "min_width": null,
            "object_fit": null,
            "object_position": null,
            "order": null,
            "overflow": null,
            "overflow_x": null,
            "overflow_y": null,
            "padding": null,
            "right": null,
            "top": null,
            "visibility": null,
            "width": null
          }
        },
        "654c794449bd42378ad0ff1ba20a3842": {
          "model_module": "@jupyter-widgets/controls",
          "model_module_version": "1.5.0",
          "model_name": "HBoxModel",
          "state": {
            "_dom_classes": [],
            "_model_module": "@jupyter-widgets/controls",
            "_model_module_version": "1.5.0",
            "_model_name": "HBoxModel",
            "_view_count": null,
            "_view_module": "@jupyter-widgets/controls",
            "_view_module_version": "1.5.0",
            "_view_name": "HBoxView",
            "box_style": "",
            "children": [
              "IPY_MODEL_77ac0e5761554e789f001c1045129ea8",
              "IPY_MODEL_3db63fd099ba4a2a8d3ffcaa147b6011",
              "IPY_MODEL_5a5479ef19af4814b4a227ea44ffd90a"
            ],
            "layout": "IPY_MODEL_60f4949511b44ae499946129cee86819"
          }
        },
        "69079a20dea64e91885053bf2cc54a4c": {
          "model_module": "@jupyter-widgets/base",
          "model_module_version": "1.2.0",
          "model_name": "LayoutModel",
          "state": {
            "_model_module": "@jupyter-widgets/base",
            "_model_module_version": "1.2.0",
            "_model_name": "LayoutModel",
            "_view_count": null,
            "_view_module": "@jupyter-widgets/base",
            "_view_module_version": "1.2.0",
            "_view_name": "LayoutView",
            "align_content": null,
            "align_items": null,
            "align_self": null,
            "border": null,
            "bottom": null,
            "display": null,
            "flex": null,
            "flex_flow": null,
            "grid_area": null,
            "grid_auto_columns": null,
            "grid_auto_flow": null,
            "grid_auto_rows": null,
            "grid_column": null,
            "grid_gap": null,
            "grid_row": null,
            "grid_template_areas": null,
            "grid_template_columns": null,
            "grid_template_rows": null,
            "height": null,
            "justify_content": null,
            "justify_items": null,
            "left": null,
            "margin": null,
            "max_height": null,
            "max_width": null,
            "min_height": null,
            "min_width": null,
            "object_fit": null,
            "object_position": null,
            "order": null,
            "overflow": null,
            "overflow_x": null,
            "overflow_y": null,
            "padding": null,
            "right": null,
            "top": null,
            "visibility": null,
            "width": null
          }
        },
        "77ac0e5761554e789f001c1045129ea8": {
          "model_module": "@jupyter-widgets/controls",
          "model_module_version": "1.5.0",
          "model_name": "HTMLModel",
          "state": {
            "_dom_classes": [],
            "_model_module": "@jupyter-widgets/controls",
            "_model_module_version": "1.5.0",
            "_model_name": "HTMLModel",
            "_view_count": null,
            "_view_module": "@jupyter-widgets/controls",
            "_view_module_version": "1.5.0",
            "_view_name": "HTMLView",
            "description": "",
            "description_tooltip": null,
            "layout": "IPY_MODEL_69079a20dea64e91885053bf2cc54a4c",
            "placeholder": "​",
            "style": "IPY_MODEL_5ca7b048742c49e986dd8e30727367a7",
            "value": "model.safetensors: 100%"
          }
        },
        "8f26197afbe3469cb2d27ea32f7257ee": {
          "model_module": "@jupyter-widgets/base",
          "model_module_version": "1.2.0",
          "model_name": "LayoutModel",
          "state": {
            "_model_module": "@jupyter-widgets/base",
            "_model_module_version": "1.2.0",
            "_model_name": "LayoutModel",
            "_view_count": null,
            "_view_module": "@jupyter-widgets/base",
            "_view_module_version": "1.2.0",
            "_view_name": "LayoutView",
            "align_content": null,
            "align_items": null,
            "align_self": null,
            "border": null,
            "bottom": null,
            "display": null,
            "flex": null,
            "flex_flow": null,
            "grid_area": null,
            "grid_auto_columns": null,
            "grid_auto_flow": null,
            "grid_auto_rows": null,
            "grid_column": null,
            "grid_gap": null,
            "grid_row": null,
            "grid_template_areas": null,
            "grid_template_columns": null,
            "grid_template_rows": null,
            "height": null,
            "justify_content": null,
            "justify_items": null,
            "left": null,
            "margin": null,
            "max_height": null,
            "max_width": null,
            "min_height": null,
            "min_width": null,
            "object_fit": null,
            "object_position": null,
            "order": null,
            "overflow": null,
            "overflow_x": null,
            "overflow_y": null,
            "padding": null,
            "right": null,
            "top": null,
            "visibility": null,
            "width": null
          }
        },
        "d026f74db1264804b09f4b93da7bf720": {
          "model_module": "@jupyter-widgets/controls",
          "model_module_version": "1.5.0",
          "model_name": "ProgressStyleModel",
          "state": {
            "_model_module": "@jupyter-widgets/controls",
            "_model_module_version": "1.5.0",
            "_model_name": "ProgressStyleModel",
            "_view_count": null,
            "_view_module": "@jupyter-widgets/base",
            "_view_module_version": "1.2.0",
            "_view_name": "StyleView",
            "bar_color": null,
            "description_width": ""
          }
        },
        "e52204a5e84f419994c7017fc2b3bbf8": {
          "model_module": "@jupyter-widgets/base",
          "model_module_version": "1.2.0",
          "model_name": "LayoutModel",
          "state": {
            "_model_module": "@jupyter-widgets/base",
            "_model_module_version": "1.2.0",
            "_model_name": "LayoutModel",
            "_view_count": null,
            "_view_module": "@jupyter-widgets/base",
            "_view_module_version": "1.2.0",
            "_view_name": "LayoutView",
            "align_content": null,
            "align_items": null,
            "align_self": null,
            "border": null,
            "bottom": null,
            "display": null,
            "flex": null,
            "flex_flow": null,
            "grid_area": null,
            "grid_auto_columns": null,
            "grid_auto_flow": null,
            "grid_auto_rows": null,
            "grid_column": null,
            "grid_gap": null,
            "grid_row": null,
            "grid_template_areas": null,
            "grid_template_columns": null,
            "grid_template_rows": null,
            "height": null,
            "justify_content": null,
            "justify_items": null,
            "left": null,
            "margin": null,
            "max_height": null,
            "max_width": null,
            "min_height": null,
            "min_width": null,
            "object_fit": null,
            "object_position": null,
            "order": null,
            "overflow": null,
            "overflow_x": null,
            "overflow_y": null,
            "padding": null,
            "right": null,
            "top": null,
            "visibility": null,
            "width": null
          }
        }
      }
    }
  },
  "nbformat": 4,
  "nbformat_minor": 0
}
